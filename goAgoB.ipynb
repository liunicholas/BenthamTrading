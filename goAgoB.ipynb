{
 "cells": [
  {
   "cell_type": "code",
   "execution_count": 59,
   "metadata": {},
   "outputs": [],
   "source": [
    "import yfinance as yf\n",
    "import pandas as pd\n",
    "import numpy as np\n",
    "import trading_clock as tc\n",
    "from data import *\n",
    "from statistics import NormalDist\n"
   ]
  },
  {
   "cell_type": "code",
   "execution_count": 60,
   "metadata": {},
   "outputs": [],
   "source": [
    "SPXdata = SecurityData(\"^spx\", security_type=\"ETF\")\n",
    "start = tc.get_today() - timedelta(days=7)\n",
    "end = tc.get_today()\n",
    "SPXdata.get_yfinance_data(start, end, \"1m\", name=\"yesterdata\")\n",
    "\n",
    "yesterdays_returns = np.log(\n",
    "    SPXdata[\"yesterdata\"][['Close']] / SPXdata[\"yesterdata\"][['Close']].shift()).dropna()[\"Close\"].to_numpy()\n"
   ]
  },
  {
   "cell_type": "code",
   "execution_count": 62,
   "metadata": {},
   "outputs": [
    {
     "name": "stdout",
     "output_type": "stream",
     "text": [
      "4459.883829951181\n",
      "4364.033197080279\n",
      "0.7436820336406468\n"
     ]
    }
   ],
   "source": [
    "yesterdays_mean = np.mean(yesterdays_returns)\n",
    "yesterdays_std = np.std(yesterdays_returns)\n",
    "\n",
    "current_price = 4411.25\n",
    "desired_price = 4428\n",
    "time_to_sell = 270\n",
    "probability = 0.975\n",
    "\n",
    "upper_pct_change = NormalDist(\n",
    "    mu=time_to_sell*yesterdays_mean, \n",
    "    sigma=yesterdays_std*time_to_sell**0.5\n",
    "    ).inv_cdf(probability)\n",
    "\n",
    "lower_pct_change = NormalDist(\n",
    "    mu=time_to_sell*yesterdays_mean,\n",
    "    sigma=yesterdays_std*time_to_sell**0.5\n",
    ").inv_cdf(1-probability)\n",
    "\n",
    "upper_range = (1+upper_pct_change) * current_price\n",
    "print(upper_range)\n",
    "lower_range = (1+lower_pct_change) * current_price\n",
    "print(lower_range)\n",
    "\n",
    "chance_of_range = NormalDist(\n",
    "    mu=time_to_sell*yesterdays_mean,\n",
    "    sigma=yesterdays_std*time_to_sell**0.5\n",
    "    ).cdf(np.log(desired_price/current_price))\n",
    "\n",
    "print(chance_of_range)\n"
   ]
  }
 ],
 "metadata": {
  "kernelspec": {
   "display_name": "jupitertrading",
   "language": "python",
   "name": "python3"
  },
  "language_info": {
   "codemirror_mode": {
    "name": "ipython",
    "version": 3
   },
   "file_extension": ".py",
   "mimetype": "text/x-python",
   "name": "python",
   "nbconvert_exporter": "python",
   "pygments_lexer": "ipython3",
   "version": "3.11.0"
  },
  "orig_nbformat": 4
 },
 "nbformat": 4,
 "nbformat_minor": 2
}
