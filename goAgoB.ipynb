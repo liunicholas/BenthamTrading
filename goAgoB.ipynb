{
 "cells": [
  {
   "cell_type": "code",
   "execution_count": 81,
   "metadata": {},
   "outputs": [],
   "source": [
    "import yfinance as yf\n",
    "import pandas as pd\n",
    "import numpy as np\n",
    "import trading_clock as tc\n",
    "from data import *\n",
    "from statistics import NormalDist\n"
   ]
  },
  {
   "cell_type": "code",
   "execution_count": 82,
   "metadata": {},
   "outputs": [],
   "source": [
    "SPXdata = SecurityData(\"^spx\", security_type=\"ETF\")\n",
    "\n",
    "start = tc.get_today() - timedelta(days=2)\n",
    "end = tc.get_today()\n",
    "SPXdata.get_yfinance_data(start, end, \"1m\", name=\"yesterdata\")\n",
    "\n",
    "yesterdays_returns = np.log(\n",
    "    SPXdata[\"yesterdata\"][['Close']] / SPXdata[\"yesterdata\"][['Close']].shift()).dropna()[\"Close\"].to_numpy()\n"
   ]
  },
  {
   "cell_type": "code",
   "execution_count": 83,
   "metadata": {},
   "outputs": [
    {
     "name": "stdout",
     "output_type": "stream",
     "text": [
      "40.0% Confidence Interval\n",
      "Upper Range After 360 minutes: $4491.45\n",
      "Lower Range After 360 minutes: $4458.92\n",
      "Chance of exceeding $4448.51 after 360 minutes: 80.52%\n"
     ]
    }
   ],
   "source": [
    "yesterdays_mean = np.mean(yesterdays_returns)\n",
    "yesterdays_std = np.std(yesterdays_returns)\n",
    "# print(yesterdays_mean*120)\n",
    "\n",
    "current_price = 4443.25\n",
    "desired_price = 4448.51\n",
    "time_to_sell = 360\n",
    "confidence = 0.4\n",
    "\n",
    "upper_pct_change = NormalDist(\n",
    "    mu=time_to_sell*yesterdays_mean, \n",
    "    sigma=yesterdays_std*time_to_sell**0.5\n",
    ").inv_cdf(confidence+(1-confidence)/2)\n",
    "\n",
    "lower_pct_change = NormalDist(\n",
    "    mu=time_to_sell*yesterdays_mean,\n",
    "    sigma=yesterdays_std*time_to_sell**0.5\n",
    ").inv_cdf((1-confidence)/2)\n",
    "\n",
    "print(f\"{confidence*100}% Confidence Interval\")\n",
    "upper_range = (1+upper_pct_change) * current_price\n",
    "print(f\"Upper Range After {time_to_sell} minutes: ${upper_range:0.2f}\")\n",
    "lower_range = (1+lower_pct_change) * current_price\n",
    "print(f\"Lower Range After {time_to_sell} minutes: ${lower_range:0.2f}\")\n",
    "\n",
    "if np.log(desired_price/current_price) > time_to_sell*yesterdays_mean:\n",
    "    chance_of_exceeding_range = 1-(NormalDist(\n",
    "        mu=time_to_sell*yesterdays_mean,\n",
    "        sigma=yesterdays_std*time_to_sell**0.5\n",
    "        ).cdf(np.log(desired_price/current_price)))\n",
    "else:\n",
    "    chance_of_exceeding_range = (NormalDist(\n",
    "        mu=time_to_sell*yesterdays_mean,\n",
    "        sigma=yesterdays_std*time_to_sell**0.5\n",
    "    ).cdf(np.log(desired_price/current_price)))\n",
    "\n",
    "print(f\"Chance of exceeding ${desired_price} after {time_to_sell} minutes: {chance_of_exceeding_range*100:0.2f}%\")\n"
   ]
  }
 ],
 "metadata": {
  "kernelspec": {
   "display_name": "jupitertrading",
   "language": "python",
   "name": "python3"
  },
  "language_info": {
   "codemirror_mode": {
    "name": "ipython",
    "version": 3
   },
   "file_extension": ".py",
   "mimetype": "text/x-python",
   "name": "python",
   "nbconvert_exporter": "python",
   "pygments_lexer": "ipython3",
   "version": "3.11.0"
  },
  "orig_nbformat": 4
 },
 "nbformat": 4,
 "nbformat_minor": 2
}
