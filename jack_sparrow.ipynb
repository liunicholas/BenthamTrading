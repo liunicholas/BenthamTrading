{
 "cells": [
  {
   "cell_type": "code",
   "execution_count": 1,
   "metadata": {},
   "outputs": [],
   "source": [
    "import requests\n",
    "from bs4 import BeautifulSoup\n",
    "from selenium import webdriver\n",
    "from selenium.webdriver.common.by import By\n",
    "from time import sleep\n",
    "\n",
    "from selenium import webdriver\n",
    "from selenium.webdriver.support.ui import WebDriverWait\n",
    "from selenium.webdriver.support import expected_conditions as EC\n",
    "\n"
   ]
  },
  {
   "cell_type": "code",
   "execution_count": 8,
   "metadata": {},
   "outputs": [
    {
     "name": "stdout",
     "output_type": "stream",
     "text": [
      "[]\n",
      "[]\n",
      "[]\n",
      "[]\n",
      "[]\n",
      "[]\n",
      "[]\n",
      "[]\n",
      "[]\n",
      "[]\n"
     ]
    },
    {
     "ename": "KeyboardInterrupt",
     "evalue": "",
     "output_type": "error",
     "traceback": [
      "\u001b[0;31m---------------------------------------------------------------------------\u001b[0m",
      "\u001b[0;31mKeyboardInterrupt\u001b[0m                         Traceback (most recent call last)",
      "Cell \u001b[0;32mIn[8], line 38\u001b[0m\n\u001b[1;32m     34\u001b[0m current_price \u001b[39m=\u001b[39m driver\u001b[39m.\u001b[39mexecute_script(\u001b[39m\"\"\"\u001b[39m\n\u001b[1;32m     35\u001b[0m \u001b[39m            return Array.prototype.slice.call(document.getElementsByClassName(\u001b[39m\u001b[39m\"\u001b[39m\u001b[39mlast-value\u001b[39m\u001b[39m\"\u001b[39m\u001b[39m));\u001b[39m\n\u001b[1;32m     36\u001b[0m \u001b[39m            \u001b[39m\u001b[39m\"\"\"\u001b[39m)\n\u001b[1;32m     37\u001b[0m \u001b[39mprint\u001b[39m(current_price)\n\u001b[0;32m---> 38\u001b[0m sleep(\u001b[39m1\u001b[39m)\n",
      "\u001b[0;31mKeyboardInterrupt\u001b[0m: "
     ]
    }
   ],
   "source": [
    "# URL = \"https://www.tradingview.com/symbols/CME_MINI-ES1!/\"\n",
    "URL = \"https://www.cmegroup.com/markets/equities/sp/e-mini-sandp500.html\"\n",
    "\n",
    "options = webdriver.ChromeOptions()\n",
    "\n",
    "# options.add_experimental_option(\"excludeSwitches\", [\"enable-automation\"])\n",
    "# options.add_experimental_option('useAutomationExtension', False)\n",
    "options.add_argument(\"--headless\")\n",
    "options.add_argument('--blink-settings=imagesEnabled=false')\n",
    "\n",
    "driver = webdriver.Chrome(options=options)\n",
    "driver.get(URL)\n",
    "\n",
    "# longInfo = [\"xxx.gmail.com\", \"11\"]\n",
    "# driver.get(\"https://www.tradingview.com/#signin\")\n",
    "# wait = WebDriverWait(driver, 10)\n",
    "# wait.until(EC.element_to_be_clickable(\n",
    "#     (By.XPATH, \"//span[text()='Email']\"))).click()\n",
    "# wait.until(EC.element_to_be_clickable(\n",
    "#     (By.CSS_SELECTOR, \"[name='id_username']\"))).send_keys(longInfo[0])\n",
    "# wait.until(EC.element_to_be_clickable(\n",
    "#     (By.CSS_SELECTOR, \"[name='id_password']\"))).send_keys(longInfo[1])\n",
    "# wait.until(EC.element_to_be_clickable(\n",
    "#     (By.XPATH, \"//button[.//span[contains(., 'Sign in')]]\"))).click()\n",
    "\n",
    "# WebDriverWait(driver, 10).until(EC.frame_to_be_available_and_switch_to_it(\n",
    "#     (By.CSS_SELECTOR, \"iframe[name^='a-2swc2y9okwy7'][src^='https://www.recaptcha.net/recaptcha/api2/anchor?ar=1&k=6Lcqv24UAAAAAIvkElDvwPxD0R8scDnMpizaBcHQ&co=aHR0cHM6Ly93d3cudHJhZGluZ3ZpZXcuY29tOjQ0Mw..&hl=en&v=iRvKkcsnpNcOYYwhqaQxPITz&theme=light&size=normal&cb=dk1srh93l31y']\")))\n",
    "# WebDriverWait(driver, 10).until(EC.element_to_be_clickable(\n",
    "#     (By.XPATH, \"//span[@id='rc-anchor']\"))).click()\n",
    "\n",
    "# sleep(30)\n",
    "while True:\n",
    "    # current_price = float(driver.find_element(By.CLASS_NAME, \"last-value\").text)\n",
    "    current_price = driver.execute_script(\"\"\"\n",
    "                return Array.prototype.slice.call(document.getElementsByClassName(\"last-value\"));\n",
    "                \"\"\")\n",
    "    print(current_price)\n",
    "    sleep(1)"
   ]
  }
 ],
 "metadata": {
  "kernelspec": {
   "display_name": "jupitertrading",
   "language": "python",
   "name": "python3"
  },
  "language_info": {
   "codemirror_mode": {
    "name": "ipython",
    "version": 3
   },
   "file_extension": ".py",
   "mimetype": "text/x-python",
   "name": "python",
   "nbconvert_exporter": "python",
   "pygments_lexer": "ipython3",
   "version": "3.11.0"
  },
  "orig_nbformat": 4
 },
 "nbformat": 4,
 "nbformat_minor": 2
}
